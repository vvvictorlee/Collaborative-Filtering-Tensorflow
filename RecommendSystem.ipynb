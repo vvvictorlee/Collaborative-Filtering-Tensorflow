{
 "cells": [
  {
   "cell_type": "code",
   "execution_count": 1,
   "metadata": {
    "collapsed": true
   },
   "outputs": [],
   "source": [
    "import numpy as np\n",
    "import pandas as pd\n",
    "from pandas import DataFrame\n",
    "\n",
    "from sklearn.model_selection import train_test_split\n",
    "\n",
    "import tensorflow as tf"
   ]
  },
  {
   "cell_type": "code",
   "execution_count": 2,
   "metadata": {},
   "outputs": [
    {
     "data": {
      "text/html": [
       "<div>\n",
       "<style>\n",
       "    .dataframe thead tr:only-child th {\n",
       "        text-align: right;\n",
       "    }\n",
       "\n",
       "    .dataframe thead th {\n",
       "        text-align: left;\n",
       "    }\n",
       "\n",
       "    .dataframe tbody tr th {\n",
       "        vertical-align: top;\n",
       "    }\n",
       "</style>\n",
       "<table border=\"1\" class=\"dataframe\">\n",
       "  <thead>\n",
       "    <tr style=\"text-align: right;\">\n",
       "      <th></th>\n",
       "      <th>user_id</th>\n",
       "      <th>item_id</th>\n",
       "      <th>rating</th>\n",
       "      <th>timestamp</th>\n",
       "    </tr>\n",
       "  </thead>\n",
       "  <tbody>\n",
       "    <tr>\n",
       "      <th>0</th>\n",
       "      <td>196</td>\n",
       "      <td>242</td>\n",
       "      <td>3</td>\n",
       "      <td>881250949</td>\n",
       "    </tr>\n",
       "    <tr>\n",
       "      <th>1</th>\n",
       "      <td>186</td>\n",
       "      <td>302</td>\n",
       "      <td>3</td>\n",
       "      <td>891717742</td>\n",
       "    </tr>\n",
       "    <tr>\n",
       "      <th>2</th>\n",
       "      <td>22</td>\n",
       "      <td>377</td>\n",
       "      <td>1</td>\n",
       "      <td>878887116</td>\n",
       "    </tr>\n",
       "    <tr>\n",
       "      <th>3</th>\n",
       "      <td>244</td>\n",
       "      <td>51</td>\n",
       "      <td>2</td>\n",
       "      <td>880606923</td>\n",
       "    </tr>\n",
       "    <tr>\n",
       "      <th>4</th>\n",
       "      <td>166</td>\n",
       "      <td>346</td>\n",
       "      <td>1</td>\n",
       "      <td>886397596</td>\n",
       "    </tr>\n",
       "  </tbody>\n",
       "</table>\n",
       "</div>"
      ],
      "text/plain": [
       "   user_id  item_id  rating  timestamp\n",
       "0      196      242       3  881250949\n",
       "1      186      302       3  891717742\n",
       "2       22      377       1  878887116\n",
       "3      244       51       2  880606923\n",
       "4      166      346       1  886397596"
      ]
     },
     "execution_count": 2,
     "metadata": {},
     "output_type": "execute_result"
    }
   ],
   "source": [
    "DATA_DIR = './ml-100k'\n",
    "LOG_DIR = './logs'\n",
    "data = pd.read_csv('{}/u.data'.format(DATA_DIR), sep='\\t', names=['user_id', 'item_id', 'rating', 'timestamp'])\n",
    "data.head()"
   ]
  },
  {
   "cell_type": "code",
   "execution_count": 3,
   "metadata": {},
   "outputs": [
    {
     "data": {
      "text/plain": [
       "((80000, 4), (20000, 4))"
      ]
     },
     "execution_count": 3,
     "metadata": {},
     "output_type": "execute_result"
    }
   ],
   "source": [
    "train, val = train_test_split(data, test_size=0.2)\n",
    "train.shape, val.shape"
   ]
  },
  {
   "cell_type": "code",
   "execution_count": 4,
   "metadata": {},
   "outputs": [
    {
     "data": {
      "text/plain": [
       "(943, 1682)"
      ]
     },
     "execution_count": 4,
     "metadata": {},
     "output_type": "execute_result"
    }
   ],
   "source": [
    "USER_NUM = 943\n",
    "ITEM_NUM = 1682\n",
    "train_matrix = np.zeros((USER_NUM, ITEM_NUM))\n",
    "val_matrix = np.zeros((USER_NUM, ITEM_NUM))\n",
    "train_matrix.shape"
   ]
  },
  {
   "cell_type": "code",
   "execution_count": 5,
   "metadata": {
    "collapsed": true
   },
   "outputs": [],
   "source": [
    "for _, row in train.iterrows():\n",
    "    user_id, item_id, rating = row.user_id, row.item_id, row.rating\n",
    "    train_matrix[user_id-1, item_id-1] = rating\n",
    "    \n",
    "for _, row in val.iterrows():\n",
    "    user_id, item_id, rating = row.user_id, row.item_id, row.rating\n",
    "    val_matrix[user_id-1, item_id-1] = rating"
   ]
  },
  {
   "cell_type": "code",
   "execution_count": 6,
   "metadata": {},
   "outputs": [],
   "source": [
    "sum_matrix = np.sum(train_matrix, axis=0)\n",
    "count_matrix = np.count_nonzero(train_matrix, axis=0)\n",
    "\n",
    "# Maybe you can try reduce all other items by 3(batch normalization), leave blank as 0 instead of 3.\n",
    "sum_matrix[sum_matrix==0] = 3\n",
    "count_matrix[count_matrix==0] = 1\n",
    "\n",
    "item_avg = sum_matrix / count_matrix\n",
    "\n",
    "matrix_mean = np.ndarray((USER_NUM, ITEM_NUM))\n",
    "for i in range(USER_NUM):\n",
    "    matrix_mean[i] = item_avg"
   ]
  },
  {
   "cell_type": "code",
   "execution_count": 7,
   "metadata": {
    "collapsed": true
   },
   "outputs": [],
   "source": [
    "FEATURE_LEN = 64\n",
    "\n",
    "tf_train_matrix = tf.constant(train_matrix, dtype=tf.float32)\n",
    "tf_train_matrix_bool = tf.cast(tf_train_matrix, dtype=tf.bool)\n",
    "tf_val_matrix = tf.constant(val_matrix, dtype=tf.float32)\n",
    "tf_val_matrix_bool = tf.cast(tf_val_matrix, dtype=tf.bool)\n",
    "\n",
    "tf_user_features = tf.Variable(tf.truncated_normal(shape=(USER_NUM, FEATURE_LEN)), dtype=tf.float32)\n",
    "tf_item_features = tf.Variable(tf.truncated_normal(shape=(ITEM_NUM, FEATURE_LEN)), dtype=tf.float32)\n",
    "\n",
    "tf_matrix_mean = tf.constant(matrix_mean, dtype=tf.float32)\n",
    "tf_matrix_zero_float = tf.constant(np.zeros((USER_NUM, ITEM_NUM)), dtype=tf.float32)\n",
    "tf_matrix_zero_int = tf.constant(np.zeros((USER_NUM, ITEM_NUM)), dtype=tf.int32)"
   ]
  },
  {
   "cell_type": "code",
   "execution_count": 10,
   "metadata": {},
   "outputs": [
    {
     "data": {
      "text/plain": [
       "<tf.Tensor 'val_loss_total_1:0' shape=() dtype=string>"
      ]
     },
     "execution_count": 10,
     "metadata": {},
     "output_type": "execute_result"
    }
   ],
   "source": [
    "# Loss\n",
    "\n",
    "pred_matrix = tf.tensordot(tf_user_features, tf_item_features, axes=[[1], [1]])\n",
    "# pred_matrix_int = tf.cast(pred_matrix, tf.int32)\n",
    "pred_matrix_int = tf.cast(tf.round(pred_matrix), tf.int32)\n",
    "\n",
    "train_diff = pred_matrix - tf_train_matrix\n",
    "train_squared_diff_filtered = tf.where(tf_train_matrix_bool, tf.square(train_diff), tf_matrix_mean)\n",
    "\n",
    "val_diff = pred_matrix - tf_val_matrix\n",
    "val_squared_diff_filtered = tf.where(tf_val_matrix_bool, tf.square(val_diff), tf_matrix_mean)\n",
    "\n",
    "train_diff_loss = 0.1 * tf.sqrt(tf.reduce_sum(train_squared_diff_filtered))\n",
    "train_user_loss = 0.1 * tf.sqrt(tf.reduce_sum(tf.square(tf_user_features)))\n",
    "train_item_loss = 0.1 * tf.sqrt(tf.reduce_sum(tf.square(tf_item_features)))\n",
    "train_loss = train_diff_loss + train_user_loss + train_item_loss\n",
    "\n",
    "val_diff_loss = 0.1 * tf.sqrt(tf.reduce_sum(val_squared_diff_filtered))\n",
    "val_user_loss = 0.1 * tf.sqrt(tf.reduce_sum(tf.square(tf_user_features)))\n",
    "val_item_loss = 0.1 * tf.sqrt(tf.reduce_sum(tf.square(tf_item_features)))\n",
    "val_loss = val_diff_loss + val_user_loss + val_item_loss\n",
    "\n",
    "\n",
    "tf.summary.scalar('train_loss_diff', train_diff_loss)\n",
    "tf.summary.scalar('train_loss_user', train_user_loss)\n",
    "tf.summary.scalar('train_loss_item', train_item_loss)\n",
    "tf.summary.scalar('train_loss_total', train_loss)\n",
    "\n",
    "tf.summary.scalar('val_loss_diff', val_diff_loss)\n",
    "tf.summary.scalar('val_loss_user', val_user_loss)\n",
    "tf.summary.scalar('val_loss_item', val_item_loss)\n",
    "tf.summary.scalar('val_loss_total', val_loss)"
   ]
  },
  {
   "cell_type": "code",
   "execution_count": 11,
   "metadata": {},
   "outputs": [
    {
     "data": {
      "text/plain": [
       "<tf.Tensor 'val_equal_ratio:0' shape=() dtype=string>"
      ]
     },
     "execution_count": 11,
     "metadata": {},
     "output_type": "execute_result"
    }
   ],
   "source": [
    "# Train & Val Accuracy\n",
    "# Way1 Avg Dist\n",
    "train_mean_abs_dist = tf.reduce_sum(tf.where(tf_train_matrix_bool, tf.abs(train_diff), tf_matrix_zero_float)) / 80000\n",
    "val_mean_abs_dist = tf.reduce_sum(tf.where(tf_val_matrix_bool, tf.abs(val_diff), tf_matrix_zero_float)) / 20000\n",
    "\n",
    "tf.summary.scalar('train_avg_dist', train_mean_abs_dist)\n",
    "tf.summary.scalar('val_avg_dist', val_mean_abs_dist)\n",
    "\n",
    "# Way2 Accuracy\n",
    "train_equal_matrix = tf.cast(tf.equal(pred_matrix_int, tf.cast(tf_train_matrix, tf.int32)), tf.int32)\n",
    "val_equal_matrix = tf.cast(tf.equal(pred_matrix_int, tf.cast(tf_val_matrix, tf.int32)), tf.int32)\n",
    "\n",
    "train_equal_num = tf.reduce_sum(tf.where(tf_train_matrix_bool, train_equal_matrix, tf_matrix_zero_int))\n",
    "val_equal_num = tf.reduce_sum(tf.where(tf_val_matrix_bool, val_equal_matrix, tf_matrix_zero_int))\n",
    "\n",
    "tf.summary.scalar('train_equal_num', train_equal_num)\n",
    "tf.summary.scalar('train_equal_ratio', train_equal_num / 80000)\n",
    "tf.summary.scalar('val_equal_num', val_equal_num)\n",
    "tf.summary.scalar('val_equal_ratio', val_equal_num / 20000)"
   ]
  },
  {
   "cell_type": "code",
   "execution_count": 12,
   "metadata": {
    "collapsed": true
   },
   "outputs": [],
   "source": [
    "# train_op = tf.train.AdadeltaOptimizer(learning_rate=1).minimize(train_loss)\n",
    "train_op = tf.train.GradientDescentOptimizer(learning_rate=1).minimize(train_loss)"
   ]
  },
  {
   "cell_type": "code",
   "execution_count": 13,
   "metadata": {},
   "outputs": [
    {
     "name": "stdout",
     "output_type": "stream",
     "text": [
      "RUN 1\n"
     ]
    }
   ],
   "source": [
    "sess = tf.Session()\n",
    "sess.run(tf.global_variables_initializer())\n",
    "\n",
    "RUN = RUN + 1 if 'RUN' in locals() else 1\n",
    "print('RUN {}'.format(RUN))\n",
    "summary_op = tf.summary.merge_all()\n",
    "summary_writer = tf.summary.FileWriter(\"{}/RUN{}/\".format(LOG_DIR, RUN), sess.graph)"
   ]
  },
  {
   "cell_type": "code",
   "execution_count": 14,
   "metadata": {
    "collapsed": true
   },
   "outputs": [],
   "source": [
    "def train():\n",
    "    for step in range(102400):\n",
    "        _, train_loss_value = sess.run([train_op, train_loss])\n",
    "\n",
    "        if (step + 1) % 128 == 0:\n",
    "            print(\"train loss:{}\".format(train_loss_value))\n",
    "\n",
    "        if (step + 1) % 128 == 0:\n",
    "            sess.run([val_loss, train_mean_abs_dist, val_mean_abs_dist])\n",
    "\n",
    "        if (step + 1) % 128 == 0:\n",
    "            summary_str = sess.run(summary_op)\n",
    "            summary_writer.add_summary(summary_str, step)\n",
    "            summary_writer.flush()"
   ]
  },
  {
   "cell_type": "code",
   "execution_count": 15,
   "metadata": {},
   "outputs": [
    {
     "name": "stdout",
     "output_type": "stream",
     "text": [
      "train loss:278.2732849121094\n",
      "train loss:261.6927490234375\n",
      "train loss:255.8833465576172\n",
      "train loss:252.3308563232422\n",
      "train loss:249.5305633544922\n",
      "train loss:247.08425903320312\n",
      "train loss:244.8546905517578\n",
      "train loss:242.78880310058594\n",
      "train loss:240.86715698242188\n",
      "train loss:239.0858154296875\n",
      "train loss:237.4473114013672\n",
      "train loss:235.95668029785156\n",
      "train loss:234.61712646484375\n",
      "train loss:233.4282684326172\n",
      "train loss:232.3843231201172\n",
      "train loss:231.47535705566406\n",
      "train loss:230.68966674804688\n",
      "train loss:230.0154266357422\n",
      "train loss:229.44252014160156\n",
      "train loss:228.9625244140625\n",
      "train loss:228.56793212890625\n"
     ]
    },
    {
     "ename": "KeyboardInterrupt",
     "evalue": "",
     "output_type": "error",
     "traceback": [
      "\u001b[0;31m---------------------------------------------------------------------------\u001b[0m",
      "\u001b[0;31mKeyboardInterrupt\u001b[0m                         Traceback (most recent call last)",
      "\u001b[0;32m<ipython-input-15-93fd337a0d5c>\u001b[0m in \u001b[0;36m<module>\u001b[0;34m()\u001b[0m\n\u001b[0;32m----> 1\u001b[0;31m \u001b[0mtrain\u001b[0m\u001b[0;34m(\u001b[0m\u001b[0;34m)\u001b[0m\u001b[0;34m\u001b[0m\u001b[0m\n\u001b[0m",
      "\u001b[0;32m<ipython-input-14-dace12dccda3>\u001b[0m in \u001b[0;36mtrain\u001b[0;34m()\u001b[0m\n\u001b[1;32m      1\u001b[0m \u001b[0;32mdef\u001b[0m \u001b[0mtrain\u001b[0m\u001b[0;34m(\u001b[0m\u001b[0;34m)\u001b[0m\u001b[0;34m:\u001b[0m\u001b[0;34m\u001b[0m\u001b[0m\n\u001b[1;32m      2\u001b[0m     \u001b[0;32mfor\u001b[0m \u001b[0mstep\u001b[0m \u001b[0;32min\u001b[0m \u001b[0mrange\u001b[0m\u001b[0;34m(\u001b[0m\u001b[0;36m102400\u001b[0m\u001b[0;34m)\u001b[0m\u001b[0;34m:\u001b[0m\u001b[0;34m\u001b[0m\u001b[0m\n\u001b[0;32m----> 3\u001b[0;31m         \u001b[0m_\u001b[0m\u001b[0;34m,\u001b[0m \u001b[0mtrain_loss_value\u001b[0m \u001b[0;34m=\u001b[0m \u001b[0msess\u001b[0m\u001b[0;34m.\u001b[0m\u001b[0mrun\u001b[0m\u001b[0;34m(\u001b[0m\u001b[0;34m[\u001b[0m\u001b[0mtrain_op\u001b[0m\u001b[0;34m,\u001b[0m \u001b[0mtrain_loss\u001b[0m\u001b[0;34m]\u001b[0m\u001b[0;34m)\u001b[0m\u001b[0;34m\u001b[0m\u001b[0m\n\u001b[0m\u001b[1;32m      4\u001b[0m \u001b[0;34m\u001b[0m\u001b[0m\n\u001b[1;32m      5\u001b[0m         \u001b[0;32mif\u001b[0m \u001b[0;34m(\u001b[0m\u001b[0mstep\u001b[0m \u001b[0;34m+\u001b[0m \u001b[0;36m1\u001b[0m\u001b[0;34m)\u001b[0m \u001b[0;34m%\u001b[0m \u001b[0;36m128\u001b[0m \u001b[0;34m==\u001b[0m \u001b[0;36m0\u001b[0m\u001b[0;34m:\u001b[0m\u001b[0;34m\u001b[0m\u001b[0m\n",
      "\u001b[0;32m/Users/Terri/code/ml-python-env/lib/python3.6/site-packages/tensorflow/python/client/session.py\u001b[0m in \u001b[0;36mrun\u001b[0;34m(self, fetches, feed_dict, options, run_metadata)\u001b[0m\n\u001b[1;32m    776\u001b[0m     \u001b[0;32mtry\u001b[0m\u001b[0;34m:\u001b[0m\u001b[0;34m\u001b[0m\u001b[0m\n\u001b[1;32m    777\u001b[0m       result = self._run(None, fetches, feed_dict, options_ptr,\n\u001b[0;32m--> 778\u001b[0;31m                          run_metadata_ptr)\n\u001b[0m\u001b[1;32m    779\u001b[0m       \u001b[0;32mif\u001b[0m \u001b[0mrun_metadata\u001b[0m\u001b[0;34m:\u001b[0m\u001b[0;34m\u001b[0m\u001b[0m\n\u001b[1;32m    780\u001b[0m         \u001b[0mproto_data\u001b[0m \u001b[0;34m=\u001b[0m \u001b[0mtf_session\u001b[0m\u001b[0;34m.\u001b[0m\u001b[0mTF_GetBuffer\u001b[0m\u001b[0;34m(\u001b[0m\u001b[0mrun_metadata_ptr\u001b[0m\u001b[0;34m)\u001b[0m\u001b[0;34m\u001b[0m\u001b[0m\n",
      "\u001b[0;32m/Users/Terri/code/ml-python-env/lib/python3.6/site-packages/tensorflow/python/client/session.py\u001b[0m in \u001b[0;36m_run\u001b[0;34m(self, handle, fetches, feed_dict, options, run_metadata)\u001b[0m\n\u001b[1;32m    980\u001b[0m     \u001b[0;32mif\u001b[0m \u001b[0mfinal_fetches\u001b[0m \u001b[0;32mor\u001b[0m \u001b[0mfinal_targets\u001b[0m\u001b[0;34m:\u001b[0m\u001b[0;34m\u001b[0m\u001b[0m\n\u001b[1;32m    981\u001b[0m       results = self._do_run(handle, final_targets, final_fetches,\n\u001b[0;32m--> 982\u001b[0;31m                              feed_dict_string, options, run_metadata)\n\u001b[0m\u001b[1;32m    983\u001b[0m     \u001b[0;32melse\u001b[0m\u001b[0;34m:\u001b[0m\u001b[0;34m\u001b[0m\u001b[0m\n\u001b[1;32m    984\u001b[0m       \u001b[0mresults\u001b[0m \u001b[0;34m=\u001b[0m \u001b[0;34m[\u001b[0m\u001b[0;34m]\u001b[0m\u001b[0;34m\u001b[0m\u001b[0m\n",
      "\u001b[0;32m/Users/Terri/code/ml-python-env/lib/python3.6/site-packages/tensorflow/python/client/session.py\u001b[0m in \u001b[0;36m_do_run\u001b[0;34m(self, handle, target_list, fetch_list, feed_dict, options, run_metadata)\u001b[0m\n\u001b[1;32m   1030\u001b[0m     \u001b[0;32mif\u001b[0m \u001b[0mhandle\u001b[0m \u001b[0;32mis\u001b[0m \u001b[0;32mNone\u001b[0m\u001b[0;34m:\u001b[0m\u001b[0;34m\u001b[0m\u001b[0m\n\u001b[1;32m   1031\u001b[0m       return self._do_call(_run_fn, self._session, feed_dict, fetch_list,\n\u001b[0;32m-> 1032\u001b[0;31m                            target_list, options, run_metadata)\n\u001b[0m\u001b[1;32m   1033\u001b[0m     \u001b[0;32melse\u001b[0m\u001b[0;34m:\u001b[0m\u001b[0;34m\u001b[0m\u001b[0m\n\u001b[1;32m   1034\u001b[0m       return self._do_call(_prun_fn, self._session, handle, feed_dict,\n",
      "\u001b[0;32m/Users/Terri/code/ml-python-env/lib/python3.6/site-packages/tensorflow/python/client/session.py\u001b[0m in \u001b[0;36m_do_call\u001b[0;34m(self, fn, *args)\u001b[0m\n\u001b[1;32m   1037\u001b[0m   \u001b[0;32mdef\u001b[0m \u001b[0m_do_call\u001b[0m\u001b[0;34m(\u001b[0m\u001b[0mself\u001b[0m\u001b[0;34m,\u001b[0m \u001b[0mfn\u001b[0m\u001b[0;34m,\u001b[0m \u001b[0;34m*\u001b[0m\u001b[0margs\u001b[0m\u001b[0;34m)\u001b[0m\u001b[0;34m:\u001b[0m\u001b[0;34m\u001b[0m\u001b[0m\n\u001b[1;32m   1038\u001b[0m     \u001b[0;32mtry\u001b[0m\u001b[0;34m:\u001b[0m\u001b[0;34m\u001b[0m\u001b[0m\n\u001b[0;32m-> 1039\u001b[0;31m       \u001b[0;32mreturn\u001b[0m \u001b[0mfn\u001b[0m\u001b[0;34m(\u001b[0m\u001b[0;34m*\u001b[0m\u001b[0margs\u001b[0m\u001b[0;34m)\u001b[0m\u001b[0;34m\u001b[0m\u001b[0m\n\u001b[0m\u001b[1;32m   1040\u001b[0m     \u001b[0;32mexcept\u001b[0m \u001b[0merrors\u001b[0m\u001b[0;34m.\u001b[0m\u001b[0mOpError\u001b[0m \u001b[0;32mas\u001b[0m \u001b[0me\u001b[0m\u001b[0;34m:\u001b[0m\u001b[0;34m\u001b[0m\u001b[0m\n\u001b[1;32m   1041\u001b[0m       \u001b[0mmessage\u001b[0m \u001b[0;34m=\u001b[0m \u001b[0mcompat\u001b[0m\u001b[0;34m.\u001b[0m\u001b[0mas_text\u001b[0m\u001b[0;34m(\u001b[0m\u001b[0me\u001b[0m\u001b[0;34m.\u001b[0m\u001b[0mmessage\u001b[0m\u001b[0;34m)\u001b[0m\u001b[0;34m\u001b[0m\u001b[0m\n",
      "\u001b[0;32m/Users/Terri/code/ml-python-env/lib/python3.6/site-packages/tensorflow/python/client/session.py\u001b[0m in \u001b[0;36m_run_fn\u001b[0;34m(session, feed_dict, fetch_list, target_list, options, run_metadata)\u001b[0m\n\u001b[1;32m   1019\u001b[0m         return tf_session.TF_Run(session, options,\n\u001b[1;32m   1020\u001b[0m                                  \u001b[0mfeed_dict\u001b[0m\u001b[0;34m,\u001b[0m \u001b[0mfetch_list\u001b[0m\u001b[0;34m,\u001b[0m \u001b[0mtarget_list\u001b[0m\u001b[0;34m,\u001b[0m\u001b[0;34m\u001b[0m\u001b[0m\n\u001b[0;32m-> 1021\u001b[0;31m                                  status, run_metadata)\n\u001b[0m\u001b[1;32m   1022\u001b[0m \u001b[0;34m\u001b[0m\u001b[0m\n\u001b[1;32m   1023\u001b[0m     \u001b[0;32mdef\u001b[0m \u001b[0m_prun_fn\u001b[0m\u001b[0;34m(\u001b[0m\u001b[0msession\u001b[0m\u001b[0;34m,\u001b[0m \u001b[0mhandle\u001b[0m\u001b[0;34m,\u001b[0m \u001b[0mfeed_dict\u001b[0m\u001b[0;34m,\u001b[0m \u001b[0mfetch_list\u001b[0m\u001b[0;34m)\u001b[0m\u001b[0;34m:\u001b[0m\u001b[0;34m\u001b[0m\u001b[0m\n",
      "\u001b[0;31mKeyboardInterrupt\u001b[0m: "
     ]
    }
   ],
   "source": [
    "train()"
   ]
  }
 ],
 "metadata": {
  "kernelspec": {
   "display_name": "Python 3",
   "language": "python",
   "name": "python3"
  },
  "language_info": {
   "codemirror_mode": {
    "name": "ipython",
    "version": 3
   },
   "file_extension": ".py",
   "mimetype": "text/x-python",
   "name": "python",
   "nbconvert_exporter": "python",
   "pygments_lexer": "ipython3",
   "version": "3.6.1"
  }
 },
 "nbformat": 4,
 "nbformat_minor": 2
}
